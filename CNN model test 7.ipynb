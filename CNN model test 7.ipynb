{
 "cells": [
  {
   "cell_type": "code",
   "execution_count": 1,
   "metadata": {},
   "outputs": [
    {
     "name": "stderr",
     "output_type": "stream",
     "text": [
      "Using TensorFlow backend.\n"
     ]
    }
   ],
   "source": [
    "#imorting the Keras libraries and packages\n",
    "from keras.models import Sequential\n",
    "from keras.layers import Convolution2D\n",
    "from keras.layers import MaxPooling2D\n",
    "from keras.layers import Flatten\n",
    "from keras.layers import Dense\n",
    "\n",
    "from keras.preprocessing.image import ImageDataGenerator, array_to_img, img_to_array, load_img\n",
    "\n",
    "from IPython.display import display\n",
    "from PIL import Image\n",
    "\n",
    "import numpy as np\n",
    "from keras.preprocessing import image\n",
    "\n",
    "import matplotlib.pyplot as plt"
   ]
  },
  {
   "cell_type": "code",
   "execution_count": 3,
   "metadata": {},
   "outputs": [
    {
     "name": "stderr",
     "output_type": "stream",
     "text": [
      "WARNING: Logging before flag parsing goes to stderr.\n",
      "W0717 00:43:12.608352 11964 deprecation_wrapper.py:119] From C:\\Users\\ASUS\\Anaconda3\\envs\\deeplearning\\lib\\site-packages\\keras\\backend\\tensorflow_backend.py:74: The name tf.get_default_graph is deprecated. Please use tf.compat.v1.get_default_graph instead.\n",
      "\n",
      "C:\\Users\\ASUS\\Anaconda3\\envs\\deeplearning\\lib\\site-packages\\ipykernel_launcher.py:7: UserWarning: Update your `Conv2D` call to the Keras 2 API: `Conv2D(32, (3, 3), input_shape=(64, 64, 3..., activation=\"relu\")`\n",
      "  import sys\n",
      "W0717 00:43:12.622314 11964 deprecation_wrapper.py:119] From C:\\Users\\ASUS\\Anaconda3\\envs\\deeplearning\\lib\\site-packages\\keras\\backend\\tensorflow_backend.py:517: The name tf.placeholder is deprecated. Please use tf.compat.v1.placeholder instead.\n",
      "\n",
      "W0717 00:43:12.624310 11964 deprecation_wrapper.py:119] From C:\\Users\\ASUS\\Anaconda3\\envs\\deeplearning\\lib\\site-packages\\keras\\backend\\tensorflow_backend.py:4138: The name tf.random_uniform is deprecated. Please use tf.random.uniform instead.\n",
      "\n",
      "W0717 00:43:12.641329 11964 deprecation_wrapper.py:119] From C:\\Users\\ASUS\\Anaconda3\\envs\\deeplearning\\lib\\site-packages\\keras\\backend\\tensorflow_backend.py:3976: The name tf.nn.max_pool is deprecated. Please use tf.nn.max_pool2d instead.\n",
      "\n",
      "C:\\Users\\ASUS\\Anaconda3\\envs\\deeplearning\\lib\\site-packages\\ipykernel_launcher.py:17: UserWarning: Update your `Dense` call to the Keras 2 API: `Dense(activation=\"relu\", units=128)`\n",
      "C:\\Users\\ASUS\\Anaconda3\\envs\\deeplearning\\lib\\site-packages\\ipykernel_launcher.py:19: UserWarning: Update your `Dense` call to the Keras 2 API: `Dense(activation=\"softmax\", units=7)`\n",
      "W0717 00:43:12.668192 11964 deprecation_wrapper.py:119] From C:\\Users\\ASUS\\Anaconda3\\envs\\deeplearning\\lib\\site-packages\\keras\\optimizers.py:790: The name tf.train.Optimizer is deprecated. Please use tf.compat.v1.train.Optimizer instead.\n",
      "\n",
      "W0717 00:43:12.689163 11964 deprecation_wrapper.py:119] From C:\\Users\\ASUS\\Anaconda3\\envs\\deeplearning\\lib\\site-packages\\keras\\backend\\tensorflow_backend.py:3295: The name tf.log is deprecated. Please use tf.math.log instead.\n",
      "\n"
     ]
    }
   ],
   "source": [
    "#Initialize the CNN\n",
    "classifier = Sequential()\n",
    "\n",
    "#Step 1 - Convolution\n",
    "classifier.add(Convolution2D(32, 3, 3, \n",
    "                             input_shape = (64, 64, 3), \n",
    "                             activation = 'relu'))\n",
    "\n",
    "#step 2 - pooling\n",
    "classifier.add(MaxPooling2D(pool_size = (2, 2)))\n",
    "\n",
    "#step 3 - Flattening\n",
    "classifier.add(Flatten())\n",
    "\n",
    "#step 4 - Full Connection\n",
    "classifier.add(Dense(output_dim = 128, \n",
    "                     activation = 'relu'))\n",
    "classifier.add(Dense(output_dim = 7, \n",
    "                     activation = 'softmax'))\n",
    "\n",
    "classifier.compile(optimizer = 'adam', \n",
    "                   loss = 'categorical_crossentropy', \n",
    "                   metrics = ['accuracy'])\n",
    "\n",
    "#Fitting the CNN to the images\n",
    "train_datagen = ImageDataGenerator(\n",
    "        rescale = 1./255,\n",
    "        horizontal_flip = False)\n",
    "\n",
    "test_datagen = ImageDataGenerator(\n",
    "        rescale = 1./255)"
   ]
  },
  {
   "cell_type": "code",
   "execution_count": 4,
   "metadata": {},
   "outputs": [
    {
     "name": "stdout",
     "output_type": "stream",
     "text": [
      "Found 2468 images belonging to 7 classes.\n",
      "Found 983 images belonging to 7 classes.\n"
     ]
    }
   ],
   "source": [
    "training_set = train_datagen.flow_from_directory(\n",
    "        'C:/Users/ASUS/Desktop/Research/Image Dataset/Dataset7/train_set7',\n",
    "        target_size = (64, 64),\n",
    "        batch_size = 32,\n",
    "        class_mode = 'categorical')\n",
    "\n",
    "test_set = train_datagen.flow_from_directory(\n",
    "        'C:/Users/ASUS/Desktop/Research/Image Dataset/Dataset7/test_set7',\n",
    "        target_size = (64, 64),\n",
    "        batch_size = 32,\n",
    "        class_mode = 'categorical')"
   ]
  },
  {
   "cell_type": "code",
   "execution_count": 5,
   "metadata": {},
   "outputs": [
    {
     "name": "stderr",
     "output_type": "stream",
     "text": [
      "W0717 00:43:18.142805 11964 deprecation.py:323] From C:\\Users\\ASUS\\Anaconda3\\envs\\deeplearning\\lib\\site-packages\\tensorflow\\python\\ops\\math_grad.py:1250: add_dispatch_support.<locals>.wrapper (from tensorflow.python.ops.array_ops) is deprecated and will be removed in a future version.\n",
      "Instructions for updating:\n",
      "Use tf.where in 2.0, which has the same broadcast rule as np.where\n",
      "W0717 00:43:18.184733 11964 deprecation_wrapper.py:119] From C:\\Users\\ASUS\\Anaconda3\\envs\\deeplearning\\lib\\site-packages\\keras\\backend\\tensorflow_backend.py:986: The name tf.assign_add is deprecated. Please use tf.compat.v1.assign_add instead.\n",
      "\n"
     ]
    },
    {
     "name": "stdout",
     "output_type": "stream",
     "text": [
      "Epoch 1/10\n",
      "200/200 [==============================] - 382s 2s/step - loss: 0.4423 - acc: 0.8627 - val_loss: 0.1009 - val_acc: 0.9781\n",
      "Epoch 2/10\n",
      "200/200 [==============================] - 305s 2s/step - loss: 0.0442 - acc: 0.9928 - val_loss: 0.0614 - val_acc: 0.9937\n",
      "Epoch 3/10\n",
      "200/200 [==============================] - 310s 2s/step - loss: 0.0159 - acc: 0.9966 - val_loss: 0.0380 - val_acc: 0.9938\n",
      "Epoch 4/10\n",
      "200/200 [==============================] - 309s 2s/step - loss: 0.0028 - acc: 1.0000 - val_loss: 0.0422 - val_acc: 0.9905\n",
      "Epoch 5/10\n",
      "200/200 [==============================] - 311s 2s/step - loss: 0.0014 - acc: 1.0000 - val_loss: 0.0079 - val_acc: 0.9984\n",
      "Epoch 6/10\n",
      "200/200 [==============================] - 312s 2s/step - loss: 9.5514e-04 - acc: 1.0000 - val_loss: 0.0385 - val_acc: 0.9922\n",
      "Epoch 7/10\n",
      "200/200 [==============================] - 313s 2s/step - loss: 6.9345e-04 - acc: 1.0000 - val_loss: 0.0080 - val_acc: 0.9952\n",
      "Epoch 8/10\n",
      "200/200 [==============================] - 311s 2s/step - loss: 4.9970e-04 - acc: 1.0000 - val_loss: 0.0312 - val_acc: 0.9968\n",
      "Epoch 9/10\n",
      "200/200 [==============================] - 311s 2s/step - loss: 3.8678e-04 - acc: 1.0000 - val_loss: 0.0082 - val_acc: 0.9953\n",
      "Epoch 10/10\n",
      "200/200 [==============================] - 312s 2s/step - loss: 3.1830e-04 - acc: 1.0000 - val_loss: 0.0606 - val_acc: 0.9905\n"
     ]
    }
   ],
   "source": [
    "#Training the network\n",
    "\n",
    "history = classifier.fit_generator(\n",
    "        training_set,\n",
    "        steps_per_epoch = 200,\n",
    "        epochs = 10,\n",
    "        validation_data = test_set,\n",
    "        validation_steps = 20)"
   ]
  },
  {
   "cell_type": "code",
   "execution_count": 6,
   "metadata": {},
   "outputs": [
    {
     "data": {
      "image/png": "[encoded data removed]",
      "text/plain": [
       "<Figure size 432x288 with 1 Axes>"
      ]
     },
     "metadata": {
      "needs_background": "light"
     },
     "output_type": "display_data"
    },
    {
     "data": {
      "image/png": "[encoded data removed]",
      "text/plain": [
       "<Figure size 432x288 with 1 Axes>"
      ]
     },
     "metadata": {
      "needs_background": "light"
     },
     "output_type": "display_data"
    }
   ],
   "source": [
    "# summarize history for accuracy\n",
    "plt.plot(history.history['acc'])\n",
    "plt.plot(history.history['val_acc'])\n",
    "plt.title('model accuracy')\n",
    "plt.ylabel('accuracy')\n",
    "plt.xlabel('epoch')\n",
    "plt.legend(['train', 'test'], loc='upper left')\n",
    "plt.show()\n",
    "# summarize history for loss\n",
    "plt.plot(history.history['loss'])\n",
    "plt.plot(history.history['val_loss'])\n",
    "plt.title('model loss')\n",
    "plt.ylabel('loss')\n",
    "plt.xlabel('epoch')\n",
    "plt.legend(['train', 'test'], loc='upper left')\n",
    "plt.show()"
   ]
  },
  {
   "cell_type": "code",
   "execution_count": 7,
   "metadata": {},
   "outputs": [
    {
     "name": "stdout",
     "output_type": "stream",
     "text": [
      "Saved model to disk\n"
     ]
    }
   ],
   "source": [
    "# save model and architecture to single file\n",
    "classifier.save(\"model.h7\")\n",
    "print(\"Saved model to disk\")"
   ]
  },
  {
   "cell_type": "code",
   "execution_count": 2,
   "metadata": {},
   "outputs": [
    {
     "name": "stderr",
     "output_type": "stream",
     "text": [
      "WARNING: Logging before flag parsing goes to stderr.\n",
      "W0717 23:30:35.561879  1488 deprecation_wrapper.py:119] From C:\\Users\\ASUS\\Anaconda3\\envs\\deeplearning\\lib\\site-packages\\keras\\backend\\tensorflow_backend.py:517: The name tf.placeholder is deprecated. Please use tf.compat.v1.placeholder instead.\n",
      "\n",
      "W0717 23:30:35.699298  1488 deprecation_wrapper.py:119] From C:\\Users\\ASUS\\Anaconda3\\envs\\deeplearning\\lib\\site-packages\\keras\\backend\\tensorflow_backend.py:4138: The name tf.random_uniform is deprecated. Please use tf.random.uniform instead.\n",
      "\n",
      "W0717 23:30:35.723199  1488 deprecation_wrapper.py:119] From C:\\Users\\ASUS\\Anaconda3\\envs\\deeplearning\\lib\\site-packages\\keras\\backend\\tensorflow_backend.py:3976: The name tf.nn.max_pool is deprecated. Please use tf.nn.max_pool2d instead.\n",
      "\n",
      "W0717 23:30:35.811066  1488 deprecation_wrapper.py:119] From C:\\Users\\ASUS\\Anaconda3\\envs\\deeplearning\\lib\\site-packages\\keras\\backend\\tensorflow_backend.py:174: The name tf.get_default_session is deprecated. Please use tf.compat.v1.get_default_session instead.\n",
      "\n",
      "W0717 23:30:35.812101  1488 deprecation_wrapper.py:119] From C:\\Users\\ASUS\\Anaconda3\\envs\\deeplearning\\lib\\site-packages\\keras\\backend\\tensorflow_backend.py:181: The name tf.ConfigProto is deprecated. Please use tf.compat.v1.ConfigProto instead.\n",
      "\n",
      "W0717 23:30:35.813059  1488 deprecation_wrapper.py:119] From C:\\Users\\ASUS\\Anaconda3\\envs\\deeplearning\\lib\\site-packages\\keras\\backend\\tensorflow_backend.py:186: The name tf.Session is deprecated. Please use tf.compat.v1.Session instead.\n",
      "\n",
      "W0717 23:30:36.033955  1488 deprecation_wrapper.py:119] From C:\\Users\\ASUS\\Anaconda3\\envs\\deeplearning\\lib\\site-packages\\keras\\optimizers.py:790: The name tf.train.Optimizer is deprecated. Please use tf.compat.v1.train.Optimizer instead.\n",
      "\n",
      "W0717 23:30:36.264392  1488 deprecation.py:323] From C:\\Users\\ASUS\\Anaconda3\\envs\\deeplearning\\lib\\site-packages\\tensorflow\\python\\ops\\math_grad.py:1250: add_dispatch_support.<locals>.wrapper (from tensorflow.python.ops.array_ops) is deprecated and will be removed in a future version.\n",
      "Instructions for updating:\n",
      "Use tf.where in 2.0, which has the same broadcast rule as np.where\n"
     ]
    }
   ],
   "source": [
    "# load and evaluate a saved model\n",
    "from keras.preprocessing.image import ImageDataGenerator, array_to_img, img_to_array, load_img\n",
    "from numpy import loadtxt\n",
    "from keras.models import load_model\n",
    " \n",
    "# load model\n",
    "classifier = load_model('model.h7')"
   ]
  },
  {
   "cell_type": "code",
   "execution_count": 53,
   "metadata": {},
   "outputs": [
    {
     "name": "stdout",
     "output_type": "stream",
     "text": [
      "[2]\n"
     ]
    }
   ],
   "source": [
    "test_image = load_img('C:/Users/ASUS/Desktop/Research/Image Dataset/7/IMG_4595.jpg', target_size = (64, 64))\n",
    "\n",
    "test_image = image.img_to_array(test_image)\n",
    "\n",
    "test_image = np.expand_dims(test_image, axis = 0)\n",
    "\n",
    "result = classifier.predict_classes(test_image)\n",
    "\n",
    "print(result)"
   ]
  },
  {
   "cell_type": "code",
   "execution_count": 54,
   "metadata": {},
   "outputs": [
    {
     "name": "stdout",
     "output_type": "stream",
     "text": [
      "Sign 3\n"
     ]
    }
   ],
   "source": [
    "if result == 0:\n",
    "    prediction = 'Sign 1'\n",
    "elif result == 1:\n",
    "    prediction = 'Sign 2'\n",
    "elif result == 2:\n",
    "    prediction = 'Sign 3'\n",
    "elif result == 3:\n",
    "    prediction = 'Sign 4'\n",
    "elif result == 4:\n",
    "    prediction = 'Sign 5'\n",
    "elif result == 5:\n",
    "     prediction = 'Sign 6'\n",
    "else:\n",
    "     prediction = 'Sign 7'\n",
    "\n",
    "print(prediction)"
   ]
  },
  {
   "cell_type": "code",
   "execution_count": null,
   "metadata": {},
   "outputs": [],
   "source": []
  }
 ],
 "metadata": {
  "kernelspec": {
   "display_name": "Python 3",
   "language": "python",
   "name": "python3"
  },
  "language_info": {
   "codemirror_mode": {
    "name": "ipython",
    "version": 3
   },
   "file_extension": ".py",
   "mimetype": "text/x-python",
   "name": "python",
   "nbconvert_exporter": "python",
   "pygments_lexer": "ipython3",
   "version": "3.7.3"
  }
 },
 "nbformat": 4,
 "nbformat_minor": 2
}
