{
 "cells": [
  {
   "cell_type": "code",
   "execution_count": 4,
   "metadata": {},
   "outputs": [],
   "source": [
    "#imorting the Keras libraries and packages\n",
    "from keras.models import Sequential\n",
    "from keras.layers import Convolution2D\n",
    "from keras.layers import MaxPooling2D\n",
    "from keras.layers import Flatten\n",
    "from keras.layers import Dense\n",
    "\n",
    "from keras.preprocessing.image import ImageDataGenerator, array_to_img, img_to_array, load_img\n",
    "\n",
    "from IPython.display import display\n",
    "from PIL import Image\n",
    "\n",
    "import numpy as np\n",
    "from keras.preprocessing import image"
   ]
  },
  {
   "cell_type": "code",
   "execution_count": 2,
   "metadata": {},
   "outputs": [
    {
     "name": "stderr",
     "output_type": "stream",
     "text": [
      "WARNING: Logging before flag parsing goes to stderr.\n",
      "W0716 18:11:50.115910 13112 deprecation_wrapper.py:119] From C:\\Users\\ASUS\\Anaconda3\\envs\\deeplearning\\lib\\site-packages\\keras\\backend\\tensorflow_backend.py:74: The name tf.get_default_graph is deprecated. Please use tf.compat.v1.get_default_graph instead.\n",
      "\n"
     ]
    }
   ],
   "source": [
    "#Initialize the CNN\n",
    "classifier = Sequential()"
   ]
  },
  {
   "cell_type": "code",
   "execution_count": 3,
   "metadata": {},
   "outputs": [
    {
     "name": "stderr",
     "output_type": "stream",
     "text": [
      "C:\\Users\\ASUS\\Anaconda3\\envs\\deeplearning\\lib\\site-packages\\ipykernel_launcher.py:4: UserWarning: Update your `Conv2D` call to the Keras 2 API: `Conv2D(32, (3, 3), input_shape=(64, 64, 3..., activation=\"relu\")`\n",
      "  after removing the cwd from sys.path.\n",
      "W0716 18:11:50.354675 13112 deprecation_wrapper.py:119] From C:\\Users\\ASUS\\Anaconda3\\envs\\deeplearning\\lib\\site-packages\\keras\\backend\\tensorflow_backend.py:517: The name tf.placeholder is deprecated. Please use tf.compat.v1.placeholder instead.\n",
      "\n",
      "W0716 18:11:50.359661 13112 deprecation_wrapper.py:119] From C:\\Users\\ASUS\\Anaconda3\\envs\\deeplearning\\lib\\site-packages\\keras\\backend\\tensorflow_backend.py:4138: The name tf.random_uniform is deprecated. Please use tf.random.uniform instead.\n",
      "\n"
     ]
    }
   ],
   "source": [
    "#Step 1 - Convolution\n",
    "classifier.add(Convolution2D(32, 3, 3, \n",
    "                             input_shape = (64, 64, 3), \n",
    "                             activation = 'relu'))"
   ]
  },
  {
   "cell_type": "code",
   "execution_count": 4,
   "metadata": {},
   "outputs": [
    {
     "name": "stderr",
     "output_type": "stream",
     "text": [
      "W0716 18:11:50.438618 13112 deprecation_wrapper.py:119] From C:\\Users\\ASUS\\Anaconda3\\envs\\deeplearning\\lib\\site-packages\\keras\\backend\\tensorflow_backend.py:3976: The name tf.nn.max_pool is deprecated. Please use tf.nn.max_pool2d instead.\n",
      "\n"
     ]
    }
   ],
   "source": [
    "#step 2 - pooling\n",
    "classifier.add(MaxPooling2D(pool_size = (2, 2)))"
   ]
  },
  {
   "cell_type": "code",
   "execution_count": 5,
   "metadata": {},
   "outputs": [],
   "source": [
    "#step 3 - Flattening\n",
    "classifier.add(Flatten())"
   ]
  },
  {
   "cell_type": "code",
   "execution_count": 6,
   "metadata": {},
   "outputs": [
    {
     "name": "stderr",
     "output_type": "stream",
     "text": [
      "C:\\Users\\ASUS\\Anaconda3\\envs\\deeplearning\\lib\\site-packages\\ipykernel_launcher.py:3: UserWarning: Update your `Dense` call to the Keras 2 API: `Dense(activation=\"relu\", units=128)`\n",
      "  This is separate from the ipykernel package so we can avoid doing imports until\n",
      "C:\\Users\\ASUS\\Anaconda3\\envs\\deeplearning\\lib\\site-packages\\ipykernel_launcher.py:5: UserWarning: Update your `Dense` call to the Keras 2 API: `Dense(activation=\"softmax\", units=5)`\n",
      "  \"\"\"\n"
     ]
    }
   ],
   "source": [
    "#step 4 - Full Connection\n",
    "classifier.add(Dense(output_dim = 128, \n",
    "                     activation = 'relu'))\n",
    "classifier.add(Dense(output_dim = 5, \n",
    "                     activation = 'softmax'))"
   ]
  },
  {
   "cell_type": "code",
   "execution_count": 7,
   "metadata": {},
   "outputs": [
    {
     "name": "stderr",
     "output_type": "stream",
     "text": [
      "W0716 18:11:50.865956 13112 deprecation_wrapper.py:119] From C:\\Users\\ASUS\\Anaconda3\\envs\\deeplearning\\lib\\site-packages\\keras\\optimizers.py:790: The name tf.train.Optimizer is deprecated. Please use tf.compat.v1.train.Optimizer instead.\n",
      "\n",
      "W0716 18:11:50.884886 13112 deprecation_wrapper.py:119] From C:\\Users\\ASUS\\Anaconda3\\envs\\deeplearning\\lib\\site-packages\\keras\\backend\\tensorflow_backend.py:3295: The name tf.log is deprecated. Please use tf.math.log instead.\n",
      "\n"
     ]
    }
   ],
   "source": [
    "classifier.compile(optimizer = 'adam', \n",
    "                   loss = 'categorical_crossentropy', \n",
    "                   metrics = ['accuracy'])"
   ]
  },
  {
   "cell_type": "code",
   "execution_count": 8,
   "metadata": {},
   "outputs": [],
   "source": [
    "#Fitting the CNN to the images\n",
    "train_datagen = ImageDataGenerator(\n",
    "        rescale = 1./255,\n",
    "        horizontal_flip = False)\n",
    "\n",
    "test_datagen = ImageDataGenerator(\n",
    "        rescale = 1./255)"
   ]
  },
  {
   "cell_type": "code",
   "execution_count": 9,
   "metadata": {},
   "outputs": [
    {
     "name": "stdout",
     "output_type": "stream",
     "text": [
      "Found 1787 images belonging to 5 classes.\n",
      "Found 654 images belonging to 5 classes.\n"
     ]
    }
   ],
   "source": [
    "training_set = train_datagen.flow_from_directory(\n",
    "        'C:/Users/ASUS/Desktop/Research/Image Dataset/Dataset5/train_set5',\n",
    "        target_size = (64, 64),\n",
    "        batch_size = 32,\n",
    "        class_mode = 'categorical')\n",
    "\n",
    "test_set = train_datagen.flow_from_directory(\n",
    "        'C:/Users/ASUS/Desktop/Research/Image Dataset/Dataset5/test_set5',\n",
    "        target_size = (64, 64),\n",
    "        batch_size = 32,\n",
    "        class_mode = 'categorical')"
   ]
  },
  {
   "cell_type": "code",
   "execution_count": 10,
   "metadata": {},
   "outputs": [
    {
     "name": "stderr",
     "output_type": "stream",
     "text": [
      "W0716 18:11:51.497615 13112 deprecation.py:323] From C:\\Users\\ASUS\\Anaconda3\\envs\\deeplearning\\lib\\site-packages\\tensorflow\\python\\ops\\math_grad.py:1250: add_dispatch_support.<locals>.wrapper (from tensorflow.python.ops.array_ops) is deprecated and will be removed in a future version.\n",
      "Instructions for updating:\n",
      "Use tf.where in 2.0, which has the same broadcast rule as np.where\n",
      "W0716 18:11:51.536496 13112 deprecation_wrapper.py:119] From C:\\Users\\ASUS\\Anaconda3\\envs\\deeplearning\\lib\\site-packages\\keras\\backend\\tensorflow_backend.py:986: The name tf.assign_add is deprecated. Please use tf.compat.v1.assign_add instead.\n",
      "\n"
     ]
    },
    {
     "name": "stdout",
     "output_type": "stream",
     "text": [
      "Epoch 1/10\n",
      "100/100 [==============================] - 119s 1s/step - loss: 0.5053 - acc: 0.8434 - val_loss: 0.0841 - val_acc: 0.9906\n",
      "Epoch 2/10\n",
      "100/100 [==============================] - 120s 1s/step - loss: 0.0488 - acc: 0.9900 - val_loss: 0.0626 - val_acc: 0.9906\n",
      "Epoch 3/10\n",
      "100/100 [==============================] - 121s 1s/step - loss: 0.0120 - acc: 0.9987 - val_loss: 0.0392 - val_acc: 0.9967\n",
      "Epoch 4/10\n",
      "100/100 [==============================] - 121s 1s/step - loss: 0.0044 - acc: 1.0000 - val_loss: 0.0141 - val_acc: 0.9969\n",
      "Epoch 5/10\n",
      "100/100 [==============================] - 121s 1s/step - loss: 0.0020 - acc: 1.0000 - val_loss: 0.0338 - val_acc: 0.9967\n",
      "Epoch 6/10\n",
      "100/100 [==============================] - 123s 1s/step - loss: 0.0012 - acc: 1.0000 - val_loss: 0.0032 - val_acc: 1.0000\n",
      "Epoch 7/10\n",
      "100/100 [==============================] - 122s 1s/step - loss: 7.5078e-04 - acc: 1.0000 - val_loss: 0.0443 - val_acc: 0.9934\n",
      "Epoch 8/10\n",
      "100/100 [==============================] - 121s 1s/step - loss: 5.4200e-04 - acc: 1.0000 - val_loss: 0.0068 - val_acc: 0.9969\n",
      "Epoch 9/10\n",
      "100/100 [==============================] - 122s 1s/step - loss: 3.7751e-04 - acc: 1.0000 - val_loss: 7.5535e-04 - val_acc: 1.0000\n",
      "Epoch 10/10\n",
      "100/100 [==============================] - 123s 1s/step - loss: 2.9915e-04 - acc: 1.0000 - val_loss: 0.0354 - val_acc: 0.9938\n"
     ]
    },
    {
     "data": {
      "text/plain": [
       "<keras.callbacks.History at 0x1b80d5fbe80>"
      ]
     },
     "execution_count": 10,
     "metadata": {},
     "output_type": "execute_result"
    }
   ],
   "source": [
    "#Training the network\n",
    "\n",
    "classifier.fit_generator(\n",
    "        training_set,\n",
    "        steps_per_epoch = 100,\n",
    "        epochs = 10,\n",
    "        validation_data = test_set,\n",
    "        validation_steps = 10)"
   ]
  },
  {
   "cell_type": "code",
   "execution_count": 11,
   "metadata": {},
   "outputs": [
    {
     "name": "stdout",
     "output_type": "stream",
     "text": [
      "Saved model to disk\n"
     ]
    }
   ],
   "source": [
    "# save model and architecture to single file\n",
    "classifier.save(\"model.h5\")\n",
    "print(\"Saved model to disk\")"
   ]
  },
  {
   "cell_type": "code",
   "execution_count": 21,
   "metadata": {},
   "outputs": [],
   "source": [
    "# load and evaluate a saved model\n",
    "from keras.preprocessing.image import ImageDataGenerator, array_to_img, img_to_array, load_img\n",
    "from numpy import loadtxt\n",
    "from keras.models import load_model\n",
    " \n",
    "# load model\n",
    "classifier = load_model('model.h5')"
   ]
  },
  {
   "cell_type": "code",
   "execution_count": 22,
   "metadata": {},
   "outputs": [],
   "source": [
    "test_image = load_img('C:/Users/ASUS/Desktop/Research/Image Dataset/1/IMG_4583.jpg', target_size = (64, 64))\n",
    "\n",
    "test_image = image.img_to_array(test_image)\n",
    "\n",
    "test_image = np.expand_dims(test_image, axis = 0)\n",
    "\n"
   ]
  },
  {
   "cell_type": "code",
   "execution_count": 23,
   "metadata": {},
   "outputs": [
    {
     "name": "stdout",
     "output_type": "stream",
     "text": [
      "[0]\n"
     ]
    }
   ],
   "source": [
    "result = classifier.predict_classes(test_image)\n",
    "\n",
    "print(result)\n",
    "\n",
    "#training_set.class_indices"
   ]
  },
  {
   "cell_type": "code",
   "execution_count": 24,
   "metadata": {},
   "outputs": [
    {
     "name": "stdout",
     "output_type": "stream",
     "text": [
      "Sign 1\n"
     ]
    }
   ],
   "source": [
    "if result == 0:\n",
    "    prediction = 'Sign 1'\n",
    "elif result == 1:\n",
    "    prediction = 'Sign 2'\n",
    "elif result == 2:\n",
    "    prediction = 'Sign 3'\n",
    "elif result == 3:\n",
    "    prediction = 'Sign 4'\n",
    "elif result == 4:\n",
    "    prediction = 'Sign 5'\n",
    "\n",
    "print(prediction)"
   ]
  },
  {
   "cell_type": "code",
   "execution_count": null,
   "metadata": {},
   "outputs": [],
   "source": []
  }
 ],
 "metadata": {
  "kernelspec": {
   "display_name": "Python 3",
   "language": "python",
   "name": "python3"
  },
  "language_info": {
   "codemirror_mode": {
    "name": "ipython",
    "version": 3
   },
   "file_extension": ".py",
   "mimetype": "text/x-python",
   "name": "python",
   "nbconvert_exporter": "python",
   "pygments_lexer": "ipython3",
   "version": "3.7.3"
  }
 },
 "nbformat": 4,
 "nbformat_minor": 2
}
