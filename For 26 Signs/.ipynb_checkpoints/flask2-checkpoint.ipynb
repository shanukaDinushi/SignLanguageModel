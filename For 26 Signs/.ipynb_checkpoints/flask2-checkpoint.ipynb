{
 "cells": [
  {
   "cell_type": "code",
   "execution_count": null,
   "metadata": {},
   "outputs": [
    {
     "name": "stdout",
     "output_type": "stream",
     "text": [
      " * Serving Flask app \"__main__\" (lazy loading)\n",
      " * Environment: production\n",
      "   WARNING: This is a development server. Do not use it in a production deployment.\n",
      "   Use a production WSGI server instead.\n",
      " * Debug mode: off\n"
     ]
    },
    {
     "name": "stderr",
     "output_type": "stream",
     "text": [
      " * Running on http://0.0.0.0:5000/ (Press CTRL+C to quit)\n"
     ]
    },
    {
     "name": "stdout",
     "output_type": "stream",
     "text": [
      "1\n"
     ]
    },
    {
     "name": "stderr",
     "output_type": "stream",
     "text": [
      "127.0.0.1 - - [10/Jan/2020 14:56:49] \"\u001b[37mGET /predict?msg=HelloWorld1 HTTP/1.1\u001b[0m\" 200 -\n"
     ]
    }
   ],
   "source": [
    "# load Flask \n",
    "import flask\n",
    "import numpy as np\n",
    "import tensorflow as tf\n",
    "from keras.models import load_model\n",
    "from keras.preprocessing.image import ImageDataGenerator, array_to_img, img_to_array, load_img\n",
    "from keras.preprocessing import image\n",
    "\n",
    "global model,graph\n",
    "# load the pre-trained Keras model\n",
    "#graph = tf.get_default_graph()\n",
    "    \n",
    "app = flask.Flask(__name__)\n",
    "# define a predict function as an endpoint \n",
    "\n",
    "#test_image = load_img('C:/Users/ASUS/Desktop/Research/Image Dataset/9/test/IMG_5911.jpg', \n",
    "#                      target_size = (128, 128))\n",
    "#test_image = image.img_to_array(test_image)\n",
    "#test_image = np.expand_dims(test_image, axis = 0)\n",
    "\n",
    "\n",
    "@app.route(\"/predict\", methods=[\"GET\",\"POST\"])\n",
    "def predict():\n",
    "    params = flask.request.json\n",
    "    if (params != None):\n",
    "        image_location = params.get(\"msg\")\n",
    "        \n",
    "    test_image = load_img(image_location, \n",
    "                      target_size = (128, 128))\n",
    "    test_image = image.img_to_array(test_image)\n",
    "    test_image = np.expand_dims(test_image, axis = 0)\n",
    "    \n",
    "    print(\"1\")\n",
    "    with graph.as_default():\n",
    "        classifier = load_model('model.SSL')\n",
    "        result = classifier.predict_classes(test_image)\n",
    "\n",
    "    data = {\"success\": False}\n",
    "    # get the request parameters\n",
    "    # params = flask.request.json\n",
    "    # if parameters are found, echo the msg parameter \n",
    "    data[\"response\"] = str(result)\n",
    "    data[\"success\"] = True\n",
    "    # return a response in json format \n",
    "    return flask.jsonify(data)\n",
    "# start the flask app, allow remote connections\n",
    "app.run(host='0.0.0.0')\n"
   ]
  },
  {
   "cell_type": "code",
   "execution_count": null,
   "metadata": {},
   "outputs": [],
   "source": []
  },
  {
   "cell_type": "code",
   "execution_count": null,
   "metadata": {},
   "outputs": [],
   "source": []
  }
 ],
 "metadata": {
  "kernelspec": {
   "display_name": "Python 3",
   "language": "python",
   "name": "python3"
  },
  "language_info": {
   "codemirror_mode": {
    "name": "ipython",
    "version": 3
   },
   "file_extension": ".py",
   "mimetype": "text/x-python",
   "name": "python",
   "nbconvert_exporter": "python",
   "pygments_lexer": "ipython3",
   "version": "3.5.6"
  }
 },
 "nbformat": 4,
 "nbformat_minor": 2
}
