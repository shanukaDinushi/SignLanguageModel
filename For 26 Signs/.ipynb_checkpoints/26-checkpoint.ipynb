{
 "cells": [
  {
   "cell_type": "code",
   "execution_count": 6,
   "metadata": {},
   "outputs": [],
   "source": [
    "#imorting the Keras libraries and packages\n",
    "from keras.models import Sequential\n",
    "from keras.layers import Convolution2D\n",
    "from keras.layers import MaxPooling2D\n",
    "from keras.layers import Flatten\n",
    "from keras.layers import Dense\n",
    "from keras.layers import LeakyReLU\n",
    "\n",
    "from keras.preprocessing.image import ImageDataGenerator, array_to_img, img_to_array, load_img\n",
    "\n",
    "from IPython.display import display\n",
    "from PIL import Image\n",
    "\n",
    "import numpy as np\n",
    "from keras.preprocessing import image\n",
    "\n",
    "import matplotlib.pyplot as plt"
   ]
  },
  {
   "cell_type": "code",
   "execution_count": 7,
   "metadata": {},
   "outputs": [],
   "source": [
    "#Initialize the CNN\n",
    "classifier = Sequential()"
   ]
  },
  {
   "cell_type": "code",
   "execution_count": 8,
   "metadata": {},
   "outputs": [
    {
     "name": "stderr",
     "output_type": "stream",
     "text": [
      "C:\\Users\\ASUS\\Anaconda3\\envs\\deeplearning\\lib\\site-packages\\ipykernel_launcher.py:3: UserWarning: Update your `Conv2D` call to the Keras 2 API: `Conv2D(32, (3, 3), input_shape=(64, 64, 3...)`\n",
      "  This is separate from the ipykernel package so we can avoid doing imports until\n"
     ]
    }
   ],
   "source": [
    "#Step 1 - Convolution\n",
    "classifier.add(Convolution2D(32, 3, 3, \n",
    "                             input_shape = (64, 64, 3)))\n",
    "\n",
    "classifier.add(LeakyReLU(alpha=0.1))"
   ]
  },
  {
   "cell_type": "code",
   "execution_count": 9,
   "metadata": {},
   "outputs": [],
   "source": [
    "#step 2 - pooling\n",
    "classifier.add(MaxPooling2D(pool_size = (2, 2)))"
   ]
  },
  {
   "cell_type": "code",
   "execution_count": 10,
   "metadata": {},
   "outputs": [],
   "source": [
    "#step 3 - Flattening\n",
    "classifier.add(Flatten())"
   ]
  },
  {
   "cell_type": "code",
   "execution_count": 11,
   "metadata": {},
   "outputs": [
    {
     "name": "stderr",
     "output_type": "stream",
     "text": [
      "C:\\Users\\ASUS\\Anaconda3\\envs\\deeplearning\\lib\\site-packages\\ipykernel_launcher.py:2: UserWarning: Update your `Dense` call to the Keras 2 API: `Dense(units=128)`\n",
      "  \n",
      "C:\\Users\\ASUS\\Anaconda3\\envs\\deeplearning\\lib\\site-packages\\ipykernel_launcher.py:7: UserWarning: Update your `Dense` call to the Keras 2 API: `Dense(activation=\"softmax\", units=26)`\n",
      "  import sys\n"
     ]
    }
   ],
   "source": [
    "#step 4 - Full Connection\n",
    "classifier.add(Dense(output_dim = 128))\n",
    "\n",
    "classifier.add(LeakyReLU(alpha=0.1))\n",
    "\n",
    "classifier.add(Dense(output_dim = 26, \n",
    "                     activation = 'softmax'))"
   ]
  },
  {
   "cell_type": "code",
   "execution_count": 12,
   "metadata": {},
   "outputs": [
    {
     "name": "stderr",
     "output_type": "stream",
     "text": [
      "W0721 00:35:45.401865 10104 deprecation_wrapper.py:119] From C:\\Users\\ASUS\\Anaconda3\\envs\\deeplearning\\lib\\site-packages\\keras\\optimizers.py:790: The name tf.train.Optimizer is deprecated. Please use tf.compat.v1.train.Optimizer instead.\n",
      "\n",
      "W0721 00:35:45.421767 10104 deprecation_wrapper.py:119] From C:\\Users\\ASUS\\Anaconda3\\envs\\deeplearning\\lib\\site-packages\\keras\\backend\\tensorflow_backend.py:3295: The name tf.log is deprecated. Please use tf.math.log instead.\n",
      "\n"
     ]
    }
   ],
   "source": [
    "classifier.compile(optimizer = 'adam', \n",
    "                   loss = 'categorical_crossentropy', \n",
    "                   metrics = ['accuracy'])"
   ]
  },
  {
   "cell_type": "code",
   "execution_count": 13,
   "metadata": {},
   "outputs": [],
   "source": [
    "#Fitting the CNN to the images\n",
    "train_datagen = ImageDataGenerator(\n",
    "        rescale = 1./255,\n",
    "        shear_range = 0.1,\n",
    "        zoom_range = 0.1,\n",
    "        horizontal_flip = False)\n",
    "\n",
    "test_datagen = ImageDataGenerator(\n",
    "        rescale = 1./255)"
   ]
  },
  {
   "cell_type": "code",
   "execution_count": 18,
   "metadata": {},
   "outputs": [
    {
     "name": "stdout",
     "output_type": "stream",
     "text": [
      "Found 93 images belonging to 26 classes.\n",
      "Found 72 images belonging to 26 classes.\n"
     ]
    }
   ],
   "source": [
    "training_set = train_datagen.flow_from_directory(\n",
    "        'C:/Users/ASUS/Desktop/Research/Image Dataset/train_set',\n",
    "        target_size = (64, 64),\n",
    "        batch_size = 32,\n",
    "        class_mode = 'categorical')\n",
    "\n",
    "test_set = train_datagen.flow_from_directory(\n",
    "        'C:/Users/ASUS/Desktop/Research/Image Dataset/test_set',\n",
    "        target_size = (64, 64),\n",
    "        batch_size = 32,\n",
    "        class_mode = 'categorical')"
   ]
  },
  {
   "cell_type": "code",
   "execution_count": 19,
   "metadata": {},
   "outputs": [
    {
     "name": "stdout",
     "output_type": "stream",
     "text": [
      "Epoch 1/10\n",
      "800/800 [==============================] - 1294s 2s/step - loss: 0.0070 - acc: 0.9996 - val_loss: 0.9950 - val_acc: 0.8590\n",
      "Epoch 2/10\n",
      "800/800 [==============================] - 1311s 2s/step - loss: 1.7560e-04 - acc: 1.0000 - val_loss: 1.0568 - val_acc: 0.8635\n",
      "Epoch 3/10\n",
      "800/800 [==============================] - 1275s 2s/step - loss: 6.2030e-05 - acc: 1.0000 - val_loss: 1.1350 - val_acc: 0.8614\n",
      "Epoch 4/10\n",
      "800/800 [==============================] - 1278s 2s/step - loss: 2.7615e-05 - acc: 1.0000 - val_loss: 1.1609 - val_acc: 0.8647\n",
      "Epoch 5/10\n",
      "800/800 [==============================] - 1274s 2s/step - loss: 1.5027e-05 - acc: 1.0000 - val_loss: 1.1508 - val_acc: 0.8682\n",
      "Epoch 6/10\n",
      "800/800 [==============================] - 1274s 2s/step - loss: 8.7907e-06 - acc: 1.0000 - val_loss: 1.1958 - val_acc: 0.8598\n",
      "Epoch 7/10\n",
      "800/800 [==============================] - 1274s 2s/step - loss: 5.2178e-06 - acc: 1.0000 - val_loss: 1.1933 - val_acc: 0.8621\n",
      "Epoch 8/10\n",
      "800/800 [==============================] - 1272s 2s/step - loss: 3.1481e-06 - acc: 1.0000 - val_loss: 1.1899 - val_acc: 0.8713\n",
      "Epoch 9/10\n",
      "800/800 [==============================] - 1273s 2s/step - loss: 1.9861e-06 - acc: 1.0000 - val_loss: 1.2331 - val_acc: 0.8640\n",
      "Epoch 10/10\n",
      "800/800 [==============================] - 1272s 2s/step - loss: 1.2284e-06 - acc: 1.0000 - val_loss: 1.2142 - val_acc: 0.8673\n"
     ]
    },
    {
     "data": {
      "text/plain": [
       "<keras.callbacks.History at 0x1345f273cf8>"
      ]
     },
     "execution_count": 19,
     "metadata": {},
     "output_type": "execute_result"
    }
   ],
   "source": [
    "#Training the network\n",
    "\n",
    "History = classifier.fit_generator(\n",
    "        training_set,\n",
    "        steps_per_epoch = 800,\n",
    "        epochs = 10,\n",
    "        validation_data = test_set,\n",
    "        validation_steps = 80)"
   ]
  },
  {
   "cell_type": "code",
   "execution_count": null,
   "metadata": {},
   "outputs": [],
   "source": []
  },
  {
   "cell_type": "code",
   "execution_count": 21,
   "metadata": {},
   "outputs": [
    {
     "name": "stdout",
     "output_type": "stream",
     "text": [
      "Saved model to disk\n"
     ]
    }
   ],
   "source": [
    "# save model and architecture to single file\n",
    "classifier.save(\"model.hNew26\")\n",
    "print(\"Saved model to disk\")"
   ]
  },
  {
   "cell_type": "code",
   "execution_count": 22,
   "metadata": {},
   "outputs": [],
   "source": [
    "# load and evaluate a saved model\n",
    "from keras.preprocessing.image import ImageDataGenerator, array_to_img, img_to_array, load_img\n",
    "from numpy import loadtxt\n",
    "from keras.models import load_model\n",
    "\n",
    "from IPython.display import display\n",
    "from PIL import Image\n",
    "\n",
    "import numpy as np\n",
    "from keras.preprocessing import image\n",
    " \n",
    "# load model\n",
    "classifier = load_model('model.hNew26')"
   ]
  },
  {
   "cell_type": "code",
   "execution_count": 112,
   "metadata": {},
   "outputs": [
    {
     "data": {
      "image/png": "[encoded data removed]",
      "text/plain": [
       "<Figure size 432x288 with 1 Axes>"
      ]
     },
     "metadata": {
      "needs_background": "light"
     },
     "output_type": "display_data"
    }
   ],
   "source": [
    "test_image = load_img('C:/Users/ASUS/Desktop/Research/Image Dataset/14/IMG_4604.jpg', target_size = (64, 64))\n",
    "\n",
    "#test_image = test_image.rotate(-90)\n",
    "\n",
    "plt.imshow(test_image)\n",
    "\n",
    "test_image = image.img_to_array(test_image)\n",
    "\n",
    "test_image = np.expand_dims(test_image, axis = 0)"
   ]
  },
  {
   "cell_type": "code",
   "execution_count": 113,
   "metadata": {},
   "outputs": [
    {
     "name": "stdout",
     "output_type": "stream",
     "text": [
      "[5]\n"
     ]
    },
    {
     "data": {
      "text/plain": [
       "{'1': 0,\n",
       " '10': 1,\n",
       " '11': 2,\n",
       " '12': 3,\n",
       " '13': 4,\n",
       " '14': 5,\n",
       " '15': 6,\n",
       " '16': 7,\n",
       " '17': 8,\n",
       " '18': 9,\n",
       " '19': 10,\n",
       " '2': 11,\n",
       " '20': 12,\n",
       " '21': 13,\n",
       " '22': 14,\n",
       " '23': 15,\n",
       " '24': 16,\n",
       " '25': 17,\n",
       " '26': 18,\n",
       " '3': 19,\n",
       " '4': 20,\n",
       " '5': 21,\n",
       " '6': 22,\n",
       " '7': 23,\n",
       " '8': 24,\n",
       " '9': 25}"
      ]
     },
     "execution_count": 113,
     "metadata": {},
     "output_type": "execute_result"
    }
   ],
   "source": [
    "result = classifier.predict_classes(test_image)\n",
    "\n",
    "print(result)\n",
    "\n",
    "training_set.class_indices"
   ]
  },
  {
   "cell_type": "code",
   "execution_count": 114,
   "metadata": {},
   "outputs": [
    {
     "name": "stdout",
     "output_type": "stream",
     "text": [
      "Sign 14\n"
     ]
    }
   ],
   "source": [
    "if result == 0:\n",
    "    prediction = 'Sign 1'\n",
    "elif result == 1:\n",
    "    prediction = 'Sign 10'\n",
    "elif result == 2:\n",
    "    prediction = 'Sign 11'\n",
    "elif result == 3:\n",
    "    prediction = 'Sign 12'\n",
    "elif result == 4:\n",
    "    prediction = 'Sign 13'\n",
    "elif result == 5:\n",
    "    prediction = 'Sign 14'\n",
    "elif result == 6:\n",
    "    prediction = 'Sign 15'\n",
    "elif result == 7:\n",
    "    prediction = 'Sign 16'\n",
    "elif result == 8:\n",
    "    prediction = 'Sign 17'\n",
    "elif result == 9:\n",
    "    prediction = 'Sign 18'\n",
    "elif result == 10:\n",
    "    prediction = 'Sign 19'\n",
    "elif result == 11:\n",
    "    prediction = 'Sign 2'\n",
    "elif result == 12:\n",
    "    prediction = 'Sign 20'\n",
    "elif result == 13:\n",
    "    prediction = 'Sign 21'\n",
    "elif result == 14:\n",
    "    prediction = 'Sign 22'\n",
    "elif result == 15:\n",
    "    prediction = 'Sign 23'\n",
    "elif result == 16:\n",
    "    prediction = 'Sign 24'\n",
    "elif result == 17:\n",
    "    prediction = 'Sign 25'\n",
    "elif result == 18:\n",
    "    prediction = 'Sign 26'\n",
    "elif result == 19:\n",
    "    prediction = 'Sign 21'\n",
    "elif result == 20:\n",
    "    prediction = 'Sign 4'\n",
    "elif result == 21:\n",
    "    prediction = 'Sign 5'\n",
    "elif result == 22:\n",
    "    prediction = 'Sign 6'\n",
    "elif result == 23:\n",
    "    prediction = 'Sign 7'\n",
    "elif result == 24:\n",
    "    prediction = 'Sign 8'\n",
    "elif result == 25:\n",
    "    prediction = 'Sign 9'\n",
    "    \n",
    "print(prediction)"
   ]
  },
  {
   "cell_type": "code",
   "execution_count": null,
   "metadata": {},
   "outputs": [],
   "source": []
  }
 ],
 "metadata": {
  "kernelspec": {
   "display_name": "Python 3",
   "language": "python",
   "name": "python3"
  },
  "language_info": {
   "codemirror_mode": {
    "name": "ipython",
    "version": 3
   },
   "file_extension": ".py",
   "mimetype": "text/x-python",
   "name": "python",
   "nbconvert_exporter": "python",
   "pygments_lexer": "ipython3",
   "version": "3.5.6"
  }
 },
 "nbformat": 4,
 "nbformat_minor": 2
}
