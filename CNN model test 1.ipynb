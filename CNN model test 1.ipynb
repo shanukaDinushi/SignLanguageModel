{
 "cells": [
  {
   "cell_type": "code",
   "execution_count": 1,
   "metadata": {},
   "outputs": [
    {
     "name": "stderr",
     "output_type": "stream",
     "text": [
      "Using TensorFlow backend.\n"
     ]
    }
   ],
   "source": [
    "#imorting the Keras libraries and packages\n",
    "from keras.models import Sequential\n",
    "from keras.layers import Convolution2D\n",
    "from keras.layers import MaxPooling2D\n",
    "from keras.layers import Flatten\n",
    "from keras.layers import Dense\n",
    "\n",
    "from keras.preprocessing.image import ImageDataGenerator, array_to_img, img_to_array, load_img\n",
    "\n",
    "from IPython.display import display\n",
    "from PIL import Image\n",
    "\n",
    "import numpy as np\n",
    "from keras.preprocessing import image"
   ]
  },
  {
   "cell_type": "code",
   "execution_count": 2,
   "metadata": {},
   "outputs": [
    {
     "name": "stderr",
     "output_type": "stream",
     "text": [
      "WARNING: Logging before flag parsing goes to stderr.\n",
      "W0708 20:00:05.214651 10052 deprecation_wrapper.py:119] From C:\\Users\\ASUS\\Anaconda3\\envs\\deeplearning\\lib\\site-packages\\keras\\backend\\tensorflow_backend.py:74: The name tf.get_default_graph is deprecated. Please use tf.compat.v1.get_default_graph instead.\n",
      "\n"
     ]
    }
   ],
   "source": [
    "#Initialize the CNN\n",
    "classifier = Sequential()"
   ]
  },
  {
   "cell_type": "code",
   "execution_count": 3,
   "metadata": {},
   "outputs": [
    {
     "name": "stderr",
     "output_type": "stream",
     "text": [
      "C:\\Users\\ASUS\\Anaconda3\\envs\\deeplearning\\lib\\site-packages\\ipykernel_launcher.py:2: UserWarning: Update your `Conv2D` call to the Keras 2 API: `Conv2D(32, (3, 3), input_shape=(64, 64, 3..., activation=\"relu\")`\n",
      "  \n",
      "W0708 20:00:05.489241 10052 deprecation_wrapper.py:119] From C:\\Users\\ASUS\\Anaconda3\\envs\\deeplearning\\lib\\site-packages\\keras\\backend\\tensorflow_backend.py:517: The name tf.placeholder is deprecated. Please use tf.compat.v1.placeholder instead.\n",
      "\n",
      "W0708 20:00:05.545093 10052 deprecation_wrapper.py:119] From C:\\Users\\ASUS\\Anaconda3\\envs\\deeplearning\\lib\\site-packages\\keras\\backend\\tensorflow_backend.py:4138: The name tf.random_uniform is deprecated. Please use tf.random.uniform instead.\n",
      "\n"
     ]
    }
   ],
   "source": [
    "#Step 1 - Convolution\n",
    "classifier.add(Convolution2D(32, 3, 3, input_shape = (64, 64, 3), activation = 'relu'))"
   ]
  },
  {
   "cell_type": "code",
   "execution_count": 4,
   "metadata": {},
   "outputs": [
    {
     "name": "stderr",
     "output_type": "stream",
     "text": [
      "W0708 20:00:05.680772 10052 deprecation_wrapper.py:119] From C:\\Users\\ASUS\\Anaconda3\\envs\\deeplearning\\lib\\site-packages\\keras\\backend\\tensorflow_backend.py:3976: The name tf.nn.max_pool is deprecated. Please use tf.nn.max_pool2d instead.\n",
      "\n"
     ]
    }
   ],
   "source": [
    "#step 2 - pooling\n",
    "classifier.add(MaxPooling2D(pool_size = (2, 2)))"
   ]
  },
  {
   "cell_type": "code",
   "execution_count": 5,
   "metadata": {},
   "outputs": [],
   "source": [
    "#step 3 - Flattening\n",
    "classifier.add(Flatten())"
   ]
  },
  {
   "cell_type": "code",
   "execution_count": 6,
   "metadata": {},
   "outputs": [
    {
     "name": "stderr",
     "output_type": "stream",
     "text": [
      "C:\\Users\\ASUS\\Anaconda3\\envs\\deeplearning\\lib\\site-packages\\ipykernel_launcher.py:2: UserWarning: Update your `Dense` call to the Keras 2 API: `Dense(activation=\"relu\", units=128)`\n",
      "  \n",
      "C:\\Users\\ASUS\\Anaconda3\\envs\\deeplearning\\lib\\site-packages\\ipykernel_launcher.py:3: UserWarning: Update your `Dense` call to the Keras 2 API: `Dense(activation=\"sigmoid\", units=26)`\n",
      "  This is separate from the ipykernel package so we can avoid doing imports until\n"
     ]
    }
   ],
   "source": [
    "#step 4 - Full Connection\n",
    "classifier.add(Dense(output_dim = 128, activation = 'relu'))\n",
    "classifier.add(Dense(output_dim = 26, activation = 'softmax'))"
   ]
  },
  {
   "cell_type": "code",
   "execution_count": 7,
   "metadata": {},
   "outputs": [
    {
     "name": "stderr",
     "output_type": "stream",
     "text": [
      "W0708 20:00:06.075501 10052 deprecation_wrapper.py:119] From C:\\Users\\ASUS\\Anaconda3\\envs\\deeplearning\\lib\\site-packages\\keras\\optimizers.py:790: The name tf.train.Optimizer is deprecated. Please use tf.compat.v1.train.Optimizer instead.\n",
      "\n",
      "W0708 20:00:06.115531 10052 deprecation_wrapper.py:119] From C:\\Users\\ASUS\\Anaconda3\\envs\\deeplearning\\lib\\site-packages\\keras\\backend\\tensorflow_backend.py:3376: The name tf.log is deprecated. Please use tf.math.log instead.\n",
      "\n",
      "W0708 20:00:06.125365 10052 deprecation.py:323] From C:\\Users\\ASUS\\Anaconda3\\envs\\deeplearning\\lib\\site-packages\\tensorflow\\python\\ops\\nn_impl.py:180: add_dispatch_support.<locals>.wrapper (from tensorflow.python.ops.array_ops) is deprecated and will be removed in a future version.\n",
      "Instructions for updating:\n",
      "Use tf.where in 2.0, which has the same broadcast rule as np.where\n"
     ]
    }
   ],
   "source": [
    "classifier.compile(optimizer = 'adam', loss = 'binary_crossentropy', metrics = ['accuracy'])"
   ]
  },
  {
   "cell_type": "code",
   "execution_count": 8,
   "metadata": {},
   "outputs": [],
   "source": [
    "#part 2 - Data Augmentation"
   ]
  },
  {
   "cell_type": "code",
   "execution_count": 12,
   "metadata": {},
   "outputs": [],
   "source": [
    "#Fitting the CNN to the images\n",
    "\n",
    "train_datagen = ImageDataGenerator(\n",
    "        rescale = 1./255,\n",
    "        shear_range=0.1,\n",
    "        zoom_range=0.1,\n",
    "        horizontal_flip = False)\n",
    "\n",
    "test_datagen = ImageDataGenerator(\n",
    "        rescale = 1./255)\n",
    "\n",
    "# i = 0\n",
    "# for batch in train_datagen.flow(x, batch_size=1,\n",
    "#                           save_to_dir='C:/Users/ASUS/Desktop/Research/Image Dataset/new', save_prefix='cat', save_format='jpg'):\n",
    "#     i += 1\n",
    "#     if i > 5:\n",
    "#         break  # otherwise the generator would loop indefinitely\n",
    "\n"
   ]
  },
  {
   "cell_type": "code",
   "execution_count": 13,
   "metadata": {
    "scrolled": true
   },
   "outputs": [
    {
     "name": "stdout",
     "output_type": "stream",
     "text": [
      "Found 94 images belonging to 26 classes.\n",
      "Found 72 images belonging to 26 classes.\n"
     ]
    }
   ],
   "source": [
    "training_set = train_datagen.flow_from_directory(\n",
    "        'C:/Users/ASUS/Desktop/Research/Image Dataset/train_set',\n",
    "        target_size = (64, 64),\n",
    "        batch_size = 32,\n",
    "        class_mode = 'categorical')\n",
    "\n",
    "test_set = train_datagen.flow_from_directory(\n",
    "        'C:/Users/ASUS/Desktop/Research/Image Dataset/test_set',\n",
    "        target_size = (64, 64),\n",
    "        batch_size = 32,\n",
    "        class_mode = 'categorical')"
   ]
  },
  {
   "cell_type": "code",
   "execution_count": 14,
   "metadata": {},
   "outputs": [
    {
     "name": "stderr",
     "output_type": "stream",
     "text": [
      "W0708 20:05:04.929443 10052 deprecation_wrapper.py:119] From C:\\Users\\ASUS\\Anaconda3\\envs\\deeplearning\\lib\\site-packages\\keras\\backend\\tensorflow_backend.py:986: The name tf.assign_add is deprecated. Please use tf.compat.v1.assign_add instead.\n",
      "\n"
     ]
    },
    {
     "name": "stdout",
     "output_type": "stream",
     "text": [
      "Epoch 1/10\n",
      "1000/1000 [==============================] - 2474s 2s/step - loss: 0.0099 - acc: 0.9972 - val_loss: 0.0725 - val_acc: 0.9889\n",
      "Epoch 2/10\n",
      "1000/1000 [==============================] - 2250s 2s/step - loss: 3.1699e-05 - acc: 1.0000 - val_loss: 0.0787 - val_acc: 0.9890\n",
      "Epoch 3/10\n",
      "1000/1000 [==============================] - 1997s 2s/step - loss: 9.1787e-06 - acc: 1.0000 - val_loss: 0.0807 - val_acc: 0.9895\n",
      "Epoch 4/10\n",
      "1000/1000 [==============================] - 1795s 2s/step - loss: 3.8778e-06 - acc: 1.0000 - val_loss: 0.0803 - val_acc: 0.9896\n",
      "Epoch 5/10\n",
      "1000/1000 [==============================] - 1795s 2s/step - loss: 1.9054e-06 - acc: 1.0000 - val_loss: 0.0856 - val_acc: 0.9895\n",
      "Epoch 6/10\n",
      "1000/1000 [==============================] - 1798s 2s/step - loss: 1.0515e-06 - acc: 1.0000 - val_loss: 0.0841 - val_acc: 0.9898\n",
      "Epoch 7/10\n",
      "1000/1000 [==============================] - 1802s 2s/step - loss: 6.2305e-07 - acc: 1.0000 - val_loss: 0.0885 - val_acc: 0.9895\n",
      "Epoch 8/10\n",
      "1000/1000 [==============================] - 1805s 2s/step - loss: 3.9183e-07 - acc: 1.0000 - val_loss: 0.0909 - val_acc: 0.9895\n",
      "Epoch 9/10\n",
      "1000/1000 [==============================] - 1805s 2s/step - loss: 0.0098 - acc: 0.9989 - val_loss: 0.0770 - val_acc: 0.9880\n",
      "Epoch 10/10\n",
      "1000/1000 [==============================] - 1805s 2s/step - loss: 2.1459e-05 - acc: 1.0000 - val_loss: 0.0803 - val_acc: 0.9886\n"
     ]
    },
    {
     "data": {
      "text/plain": [
       "<keras.callbacks.History at 0x23831661080>"
      ]
     },
     "execution_count": 14,
     "metadata": {},
     "output_type": "execute_result"
    }
   ],
   "source": [
    "#Training the network\n",
    "\n",
    "classifier.fit_generator(\n",
    "        training_set,\n",
    "        steps_per_epoch = 1000,\n",
    "        epochs = 10,\n",
    "        validation_data = test_set,\n",
    "        validation_steps = 100)"
   ]
  },
  {
   "cell_type": "code",
   "execution_count": 1,
   "metadata": {},
   "outputs": [
    {
     "ename": "NameError",
     "evalue": "name 'classifier' is not defined",
     "output_type": "error",
     "traceback": [
      "\u001b[1;31m---------------------------------------------------------------------------\u001b[0m",
      "\u001b[1;31mNameError\u001b[0m                                 Traceback (most recent call last)",
      "\u001b[1;32m<ipython-input-1-8a8c429d0a7f>\u001b[0m in \u001b[0;36m<module>\u001b[1;34m\u001b[0m\n\u001b[0;32m      1\u001b[0m \u001b[1;31m# save model and architecture to single file\u001b[0m\u001b[1;33m\u001b[0m\u001b[1;33m\u001b[0m\u001b[1;33m\u001b[0m\u001b[0m\n\u001b[1;32m----> 2\u001b[1;33m \u001b[0mclassifier\u001b[0m\u001b[1;33m.\u001b[0m\u001b[0msave\u001b[0m\u001b[1;33m(\u001b[0m\u001b[1;34m\"model.h5\"\u001b[0m\u001b[1;33m)\u001b[0m\u001b[1;33m\u001b[0m\u001b[1;33m\u001b[0m\u001b[0m\n\u001b[0m\u001b[0;32m      3\u001b[0m \u001b[0mprint\u001b[0m\u001b[1;33m(\u001b[0m\u001b[1;34m\"Saved model to disk\"\u001b[0m\u001b[1;33m)\u001b[0m\u001b[1;33m\u001b[0m\u001b[1;33m\u001b[0m\u001b[0m\n",
      "\u001b[1;31mNameError\u001b[0m: name 'classifier' is not defined"
     ]
    }
   ],
   "source": [
    "# save model and architecture to single file\n",
    "classifier.save(\"model.h5\")\n",
    "print(\"Saved model to disk\")"
   ]
  },
  {
   "cell_type": "code",
   "execution_count": 19,
   "metadata": {},
   "outputs": [
    {
     "name": "stdout",
     "output_type": "stream",
     "text": [
      "(1, 64, 64, 3)\n",
      "0.9999993 4\n"
     ]
    }
   ],
   "source": [
    "test_image = load_img('C:/Users/ASUS/Desktop/Research/Image Dataset/13/IMG_4777.jpg', target_size = (64, 64))\n",
    "\n",
    "\n",
    "test_image = image.img_to_array(test_image)\n",
    "\n",
    "test_image = test_image*1./255\n",
    "\n",
    "#print(test_image*1./255)\n",
    "\n",
    "test_image = np.expand_dims(test_image, axis = 0)\n",
    "\n",
    "print (test_image.shape)\n",
    "\n",
    "result = classifier.predict(test_image)\n",
    "\n",
    "max_v = -1\n",
    "prediction = -1\n",
    "counter = -1\n",
    "#print(result[0])\n",
    "for i in result[0]:\n",
    "    counter += 1\n",
    "    if max_v < i:\n",
    "        max_v = i\n",
    "        prediction = counter\n",
    "\n",
    "print(max_v, prediction)\n",
    "#training_set.class_indices\n",
    "\n",
    "\n"
   ]
  },
  {
   "cell_type": "code",
   "execution_count": null,
   "metadata": {},
   "outputs": [],
   "source": []
  }
 ],
 "metadata": {
  "kernelspec": {
   "display_name": "Python 3",
   "language": "python",
   "name": "python3"
  },
  "language_info": {
   "codemirror_mode": {
    "name": "ipython",
    "version": 3
   },
   "file_extension": ".py",
   "mimetype": "text/x-python",
   "name": "python",
   "nbconvert_exporter": "python",
   "pygments_lexer": "ipython3",
   "version": "3.7.3"
  }
 },
 "nbformat": 4,
 "nbformat_minor": 2
}
