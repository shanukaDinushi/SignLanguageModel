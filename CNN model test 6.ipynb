{
 "cells": [
  {
   "cell_type": "code",
   "execution_count": 11,
   "metadata": {},
   "outputs": [],
   "source": [
    "#imorting the Keras libraries and packages\n",
    "from keras.models import Sequential\n",
    "from keras.layers import Convolution2D\n",
    "from keras.layers import MaxPooling2D\n",
    "from keras.layers import Flatten\n",
    "from keras.layers import Dense\n",
    "\n",
    "from keras.preprocessing.image import ImageDataGenerator, array_to_img, img_to_array, load_img\n",
    "\n",
    "from IPython.display import display\n",
    "from PIL import Image\n",
    "\n",
    "import numpy as np\n",
    "from keras.preprocessing import image\n",
    "\n",
    "import matplotlib.pyplot as plt"
   ]
  },
  {
   "cell_type": "code",
   "execution_count": 12,
   "metadata": {},
   "outputs": [
    {
     "name": "stderr",
     "output_type": "stream",
     "text": [
      "C:\\Users\\ASUS\\Anaconda3\\envs\\deeplearning\\lib\\site-packages\\ipykernel_launcher.py:7: UserWarning: Update your `Conv2D` call to the Keras 2 API: `Conv2D(32, (3, 3), input_shape=(64, 64, 3..., activation=\"relu\")`\n",
      "  import sys\n",
      "C:\\Users\\ASUS\\Anaconda3\\envs\\deeplearning\\lib\\site-packages\\ipykernel_launcher.py:17: UserWarning: Update your `Dense` call to the Keras 2 API: `Dense(activation=\"relu\", units=128)`\n",
      "C:\\Users\\ASUS\\Anaconda3\\envs\\deeplearning\\lib\\site-packages\\ipykernel_launcher.py:19: UserWarning: Update your `Dense` call to the Keras 2 API: `Dense(activation=\"softmax\", units=6)`\n"
     ]
    }
   ],
   "source": [
    "#Initialize the CNN\n",
    "classifier = Sequential()\n",
    "\n",
    "#Step 1 - Convolution\n",
    "classifier.add(Convolution2D(32, 3, 3, \n",
    "                             input_shape = (64, 64, 3), \n",
    "                             activation = 'relu'))\n",
    "\n",
    "#step 2 - pooling\n",
    "classifier.add(MaxPooling2D(pool_size = (2, 2)))\n",
    "\n",
    "#step 3 - Flattening\n",
    "classifier.add(Flatten())\n",
    "\n",
    "#step 4 - Full Connection\n",
    "classifier.add(Dense(output_dim = 128, \n",
    "                     activation = 'relu'))\n",
    "classifier.add(Dense(output_dim = 6, \n",
    "                     activation = 'softmax'))\n",
    "\n",
    "classifier.compile(optimizer = 'adam', \n",
    "                   loss = 'categorical_crossentropy', \n",
    "                   metrics = ['accuracy'])\n",
    "\n",
    "#Fitting the CNN to the images\n",
    "train_datagen = ImageDataGenerator(\n",
    "        rescale = 1./255,\n",
    "        horizontal_flip = False)\n",
    "\n",
    "test_datagen = ImageDataGenerator(\n",
    "        rescale = 1./255)"
   ]
  },
  {
   "cell_type": "code",
   "execution_count": 13,
   "metadata": {},
   "outputs": [
    {
     "name": "stdout",
     "output_type": "stream",
     "text": [
      "Found 2133 images belonging to 6 classes.\n",
      "Found 814 images belonging to 6 classes.\n"
     ]
    }
   ],
   "source": [
    "training_set = train_datagen.flow_from_directory(\n",
    "        'C:/Users/ASUS/Desktop/Research/Image Dataset/Dataset6/train_set6',\n",
    "        target_size = (64, 64),\n",
    "        batch_size = 32,\n",
    "        class_mode = 'categorical')\n",
    "\n",
    "test_set = train_datagen.flow_from_directory(\n",
    "        'C:/Users/ASUS/Desktop/Research/Image Dataset/Dataset6/test_set6',\n",
    "        target_size = (64, 64),\n",
    "        batch_size = 32,\n",
    "        class_mode = 'categorical')"
   ]
  },
  {
   "cell_type": "code",
   "execution_count": 14,
   "metadata": {},
   "outputs": [
    {
     "name": "stdout",
     "output_type": "stream",
     "text": [
      "<keras_preprocessing.image.directory_iterator.DirectoryIterator object at 0x0000018146D48F98>\n"
     ]
    }
   ],
   "source": [
    "#print(training_set)"
   ]
  },
  {
   "cell_type": "code",
   "execution_count": 4,
   "metadata": {},
   "outputs": [
    {
     "name": "stderr",
     "output_type": "stream",
     "text": [
      "W0716 22:28:13.046681 17000 deprecation.py:323] From C:\\Users\\ASUS\\Anaconda3\\envs\\deeplearning\\lib\\site-packages\\tensorflow\\python\\ops\\math_grad.py:1250: add_dispatch_support.<locals>.wrapper (from tensorflow.python.ops.array_ops) is deprecated and will be removed in a future version.\n",
      "Instructions for updating:\n",
      "Use tf.where in 2.0, which has the same broadcast rule as np.where\n",
      "W0716 22:28:13.091516 17000 deprecation_wrapper.py:119] From C:\\Users\\ASUS\\Anaconda3\\envs\\deeplearning\\lib\\site-packages\\keras\\backend\\tensorflow_backend.py:986: The name tf.assign_add is deprecated. Please use tf.compat.v1.assign_add instead.\n",
      "\n"
     ]
    },
    {
     "name": "stdout",
     "output_type": "stream",
     "text": [
      "Epoch 1/10\n",
      "200/200 [==============================] - 307s 2s/step - loss: 0.6740 - acc: 0.8136 - val_loss: 0.1355 - val_acc: 0.9781\n",
      "Epoch 2/10\n",
      "200/200 [==============================] - 249s 1s/step - loss: 0.0573 - acc: 0.9887 - val_loss: 0.0750 - val_acc: 0.9807\n",
      "Epoch 3/10\n",
      "200/200 [==============================] - 253s 1s/step - loss: 0.0182 - acc: 0.9981 - val_loss: 0.0166 - val_acc: 0.9968\n",
      "Epoch 4/10\n",
      "200/200 [==============================] - 299s 1s/step - loss: 0.0047 - acc: 1.0000 - val_loss: 0.0326 - val_acc: 0.9936\n",
      "Epoch 5/10\n",
      "200/200 [==============================] - 271s 1s/step - loss: 0.0024 - acc: 1.0000 - val_loss: 0.0321 - val_acc: 0.9938\n",
      "Epoch 6/10\n",
      "200/200 [==============================] - 261s 1s/step - loss: 0.0016 - acc: 1.0000 - val_loss: 0.0093 - val_acc: 0.9968\n",
      "Epoch 7/10\n",
      "200/200 [==============================] - 245s 1s/step - loss: 0.0011 - acc: 1.0000 - val_loss: 0.0538 - val_acc: 0.9936\n",
      "Epoch 8/10\n",
      "200/200 [==============================] - 245s 1s/step - loss: 8.6103e-04 - acc: 1.0000 - val_loss: 0.0083 - val_acc: 0.9968\n",
      "Epoch 9/10\n",
      "200/200 [==============================] - 265s 1s/step - loss: 5.9283e-04 - acc: 1.0000 - val_loss: 0.0298 - val_acc: 0.9953\n",
      "Epoch 10/10\n",
      "200/200 [==============================] - 288s 1s/step - loss: 4.4696e-04 - acc: 1.0000 - val_loss: 0.0296 - val_acc: 0.9968\n"
     ]
    }
   ],
   "source": [
    "#Training the network\n",
    "\n",
    "history = classifier.fit_generator(\n",
    "        training_set,\n",
    "        steps_per_epoch = 200,\n",
    "        epochs = 10,\n",
    "        validation_data = test_set,\n",
    "        validation_steps = 20)"
   ]
  },
  {
   "cell_type": "code",
   "execution_count": 5,
   "metadata": {},
   "outputs": [
    {
     "data": {
      "image/png": "[encoded data removed]",
      "text/plain": [
       "<Figure size 432x288 with 1 Axes>"
      ]
     },
     "metadata": {
      "needs_background": "light"
     },
     "output_type": "display_data"
    },
    {
     "data": {
      "image/png": "[encoded data removed]",
      "text/plain": [
       "<Figure size 432x288 with 1 Axes>"
      ]
     },
     "metadata": {
      "needs_background": "light"
     },
     "output_type": "display_data"
    }
   ],
   "source": [
    "# summarize history for accuracy\n",
    "plt.plot(history.history['acc'])\n",
    "plt.plot(history.history['val_acc'])\n",
    "plt.title('model accuracy')\n",
    "plt.ylabel('accuracy')\n",
    "plt.xlabel('epoch')\n",
    "plt.legend(['train', 'test'], loc='upper left')\n",
    "plt.show()\n",
    "# summarize history for loss\n",
    "plt.plot(history.history['loss'])\n",
    "plt.plot(history.history['val_loss'])\n",
    "plt.title('model loss')\n",
    "plt.ylabel('loss')\n",
    "plt.xlabel('epoch')\n",
    "plt.legend(['train', 'test'], loc='upper left')\n",
    "plt.show()"
   ]
  },
  {
   "cell_type": "code",
   "execution_count": 6,
   "metadata": {},
   "outputs": [
    {
     "name": "stdout",
     "output_type": "stream",
     "text": [
      "Saved model to disk\n"
     ]
    }
   ],
   "source": [
    "# save model and architecture to single file\n",
    "classifier.save(\"model.h6\")\n",
    "print(\"Saved model to disk\")"
   ]
  },
  {
   "cell_type": "code",
   "execution_count": 7,
   "metadata": {},
   "outputs": [],
   "source": [
    "# load and evaluate a saved model\n",
    "from keras.preprocessing.image import ImageDataGenerator, array_to_img, img_to_array, load_img\n",
    "from numpy import loadtxt\n",
    "from keras.models import load_model\n",
    "\n",
    "import numpy as np\n",
    "from keras.preprocessing import image\n",
    "\n",
    "import matplotlib.pyplot as plt #To display the image\n",
    " \n",
    "# load model\n",
    "classifier = load_model('model.h6')"
   ]
  },
  {
   "cell_type": "code",
   "execution_count": 62,
   "metadata": {},
   "outputs": [
    {
     "name": "stdout",
     "output_type": "stream",
     "text": [
      "[3]\n"
     ]
    },
    {
     "data": {
      "image/png": "[encoded data removed]",
      "text/plain": [
       "<Figure size 432x288 with 1 Axes>"
      ]
     },
     "metadata": {
      "needs_background": "light"
     },
     "output_type": "display_data"
    }
   ],
   "source": [
    "test_image = load_img('C:/Users/ASUS/Desktop/Research/Image Dataset/1/IMG_4584.jpg', target_size = (64, 64))\n",
    "\n",
    "test_image = test_image.rotate(-90)\n",
    "\n",
    "plt.imshow(test_image)\n",
    "\n",
    "test_image = image.img_to_array(test_image)\n",
    "\n",
    "test_image = np.expand_dims(test_image, axis = 0)\n",
    "\n",
    "result = classifier.predict_classes(test_image)\n",
    "\n",
    "print(result)\n",
    "\n",
    "#training_set.class_indices"
   ]
  },
  {
   "cell_type": "code",
   "execution_count": 63,
   "metadata": {},
   "outputs": [
    {
     "name": "stdout",
     "output_type": "stream",
     "text": [
      "Sign 4\n"
     ]
    }
   ],
   "source": [
    "if result == 0:\n",
    "    prediction = 'Sign 1'\n",
    "elif result == 1:\n",
    "    prediction = 'Sign 2'\n",
    "elif result == 2:\n",
    "    prediction = 'Sign 3'\n",
    "elif result == 3:\n",
    "    prediction = 'Sign 4'\n",
    "elif result == 4:\n",
    "    prediction = 'Sign 5'\n",
    "elif result == 5:\n",
    "     prediction = 'Sign 6'\n",
    "\n",
    "print(prediction)"
   ]
  },
  {
   "cell_type": "code",
   "execution_count": null,
   "metadata": {},
   "outputs": [],
   "source": []
  }
 ],
 "metadata": {
  "kernelspec": {
   "display_name": "Python 3",
   "language": "python",
   "name": "python3"
  },
  "language_info": {
   "codemirror_mode": {
    "name": "ipython",
    "version": 3
   },
   "file_extension": ".py",
   "mimetype": "text/x-python",
   "name": "python",
   "nbconvert_exporter": "python",
   "pygments_lexer": "ipython3",
   "version": "3.7.3"
  }
 },
 "nbformat": 4,
 "nbformat_minor": 2
}
