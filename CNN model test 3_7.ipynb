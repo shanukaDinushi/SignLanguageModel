{
 "cells": [
  {
   "cell_type": "code",
   "execution_count": 1,
   "metadata": {},
   "outputs": [
    {
     "name": "stderr",
     "output_type": "stream",
     "text": [
      "Using TensorFlow backend.\n"
     ]
    }
   ],
   "source": [
    "#imorting the Keras libraries and packages\n",
    "from keras.models import Sequential\n",
    "from keras.layers import Convolution2D\n",
    "from keras.layers import MaxPooling2D\n",
    "from keras.layers import Flatten\n",
    "from keras.layers import Dense\n",
    "\n",
    "from keras.preprocessing.image import ImageDataGenerator, array_to_img, img_to_array, load_img\n",
    "\n",
    "from IPython.display import display\n",
    "from PIL import Image\n",
    "\n",
    "import numpy as np\n",
    "from keras.preprocessing import image"
   ]
  },
  {
   "cell_type": "code",
   "execution_count": 3,
   "metadata": {},
   "outputs": [
    {
     "name": "stderr",
     "output_type": "stream",
     "text": [
      "C:\\Users\\ASUS\\Anaconda3\\envs\\deeplearning\\lib\\site-packages\\ipykernel_launcher.py:7: UserWarning: Update your `Conv2D` call to the Keras 2 API: `Conv2D(32, (3, 3), input_shape=(64, 64, 3..., activation=\"relu\")`\n",
      "  import sys\n",
      "C:\\Users\\ASUS\\Anaconda3\\envs\\deeplearning\\lib\\site-packages\\ipykernel_launcher.py:17: UserWarning: Update your `Dense` call to the Keras 2 API: `Dense(activation=\"relu\", units=128)`\n",
      "C:\\Users\\ASUS\\Anaconda3\\envs\\deeplearning\\lib\\site-packages\\ipykernel_launcher.py:19: UserWarning: Update your `Dense` call to the Keras 2 API: `Dense(activation=\"sigmoid\", units=1)`\n"
     ]
    }
   ],
   "source": [
    "#Initialize the CNN\n",
    "classifier = Sequential()\n",
    "\n",
    "#Step 1 - Convolution\n",
    "classifier.add(Convolution2D(32, 3, 3, \n",
    "                             input_shape = (64, 64, 3), \n",
    "                             activation = 'relu'))\n",
    "\n",
    "#step 2 - pooling\n",
    "classifier.add(MaxPooling2D(pool_size = (2, 2)))\n",
    "\n",
    "#step 3 - Flattening\n",
    "classifier.add(Flatten())\n",
    "\n",
    "#step 4 - Full Connection\n",
    "classifier.add(Dense(output_dim = 128, \n",
    "                     activation = 'relu'))\n",
    "classifier.add(Dense(output_dim = 1, \n",
    "                     activation = 'sigmoid'))\n",
    "\n",
    "classifier.compile(optimizer = 'adam', \n",
    "                   loss = 'binary_crossentropy', \n",
    "                   metrics = ['accuracy'])\n",
    "\n",
    "#Fitting the CNN to the images\n",
    "train_datagen = ImageDataGenerator(\n",
    "        rescale = 1./255)\n",
    "\n",
    "test_datagen = ImageDataGenerator(\n",
    "        rescale = 1./255)"
   ]
  },
  {
   "cell_type": "code",
   "execution_count": 4,
   "metadata": {},
   "outputs": [
    {
     "name": "stdout",
     "output_type": "stream",
     "text": [
      "Found 500 images belonging to 2 classes.\n",
      "Found 213 images belonging to 2 classes.\n"
     ]
    }
   ],
   "source": [
    "training_set = train_datagen.flow_from_directory(\n",
    "        'C:/Users/ASUS/Desktop/Research/Image Dataset/Dataset3_7/train_set6',\n",
    "        target_size = (64, 64),\n",
    "        batch_size = 32,\n",
    "        class_mode = 'binary')\n",
    "\n",
    "test_set = train_datagen.flow_from_directory(\n",
    "        'C:/Users/ASUS/Desktop/Research/Image Dataset/Dataset3_7/test_set6',\n",
    "        target_size = (64, 64),\n",
    "        batch_size = 32,\n",
    "        class_mode = 'binary')"
   ]
  },
  {
   "cell_type": "code",
   "execution_count": 5,
   "metadata": {},
   "outputs": [
    {
     "name": "stderr",
     "output_type": "stream",
     "text": [
      "W0716 14:42:46.151579 10352 deprecation_wrapper.py:119] From C:\\Users\\ASUS\\Anaconda3\\envs\\deeplearning\\lib\\site-packages\\keras\\backend\\tensorflow_backend.py:986: The name tf.assign_add is deprecated. Please use tf.compat.v1.assign_add instead.\n",
      "\n"
     ]
    },
    {
     "name": "stdout",
     "output_type": "stream",
     "text": [
      "Epoch 1/10\n",
      "10/10 [==============================] - 42s 4s/step - loss: 1.3134 - acc: 0.4437 - val_loss: 0.4738 - val_acc: 0.8125\n",
      "Epoch 2/10\n",
      "10/10 [==============================] - 40s 4s/step - loss: 0.5752 - acc: 0.7249 - val_loss: 0.4412 - val_acc: 0.9844\n",
      "Epoch 3/10\n",
      "10/10 [==============================] - 30s 3s/step - loss: 0.3847 - acc: 0.9531 - val_loss: 0.2535 - val_acc: 0.9688\n",
      "Epoch 4/10\n",
      "10/10 [==============================] - 29s 3s/step - loss: 0.1724 - acc: 0.9763 - val_loss: 0.1515 - val_acc: 0.9434\n",
      "Epoch 5/10\n",
      "10/10 [==============================] - 29s 3s/step - loss: 0.0559 - acc: 0.9937 - val_loss: 0.0379 - val_acc: 0.9844\n",
      "Epoch 6/10\n",
      "10/10 [==============================] - 31s 3s/step - loss: 0.0593 - acc: 0.9844 - val_loss: 0.0130 - val_acc: 1.0000\n",
      "Epoch 7/10\n",
      "10/10 [==============================] - 29s 3s/step - loss: 0.0422 - acc: 0.9875 - val_loss: 0.0570 - val_acc: 1.0000\n",
      "Epoch 8/10\n",
      "10/10 [==============================] - 29s 3s/step - loss: 0.0370 - acc: 0.9906 - val_loss: 0.0314 - val_acc: 0.9844\n",
      "Epoch 9/10\n",
      "10/10 [==============================] - 30s 3s/step - loss: 0.0239 - acc: 0.9969 - val_loss: 0.0407 - val_acc: 0.9844\n",
      "Epoch 10/10\n",
      "10/10 [==============================] - 29s 3s/step - loss: 0.0183 - acc: 0.9969 - val_loss: 0.0684 - val_acc: 0.9844\n"
     ]
    },
    {
     "data": {
      "text/plain": [
       "<keras.callbacks.History at 0x1a426aa5710>"
      ]
     },
     "execution_count": 5,
     "metadata": {},
     "output_type": "execute_result"
    }
   ],
   "source": [
    "#Training the network\n",
    "\n",
    "classifier.fit_generator(\n",
    "        training_set,\n",
    "        steps_per_epoch = 10,\n",
    "        epochs = 10,\n",
    "        validation_data = test_set,\n",
    "        validation_steps = 2)"
   ]
  },
  {
   "cell_type": "code",
   "execution_count": 6,
   "metadata": {},
   "outputs": [
    {
     "name": "stdout",
     "output_type": "stream",
     "text": [
      "Saved model to disk\n"
     ]
    }
   ],
   "source": [
    "# save model and architecture to single file\n",
    "classifier.save(\"model.h3_7\")\n",
    "print(\"Saved model to disk\")"
   ]
  },
  {
   "cell_type": "code",
   "execution_count": 46,
   "metadata": {},
   "outputs": [
    {
     "name": "stdout",
     "output_type": "stream",
     "text": [
      "[[1]]\n"
     ]
    },
    {
     "data": {
      "text/plain": [
       "{'3': 0, '7': 1}"
      ]
     },
     "execution_count": 46,
     "metadata": {},
     "output_type": "execute_result"
    }
   ],
   "source": [
    "test_image = load_img('C:/Users/ASUS/Desktop/Research/Image Dataset/Dataset3_7/train_set6/7/letter7.1._0_95.jpg', target_size = (64, 64))\n",
    "\n",
    "test_image = image.img_to_array(test_image)\n",
    "\n",
    "test_image = np.expand_dims(test_image, axis = 0)\n",
    "\n",
    "\n",
    "result = classifier.predict_classes(test_image)\n",
    "\n",
    "print(result)\n",
    "\n",
    "training_set.class_indices"
   ]
  },
  {
   "cell_type": "code",
   "execution_count": 47,
   "metadata": {},
   "outputs": [
    {
     "name": "stdout",
     "output_type": "stream",
     "text": [
      "Sign 7\n"
     ]
    }
   ],
   "source": [
    "if result == 0:\n",
    "    prediction = 'Sign 3'\n",
    "else:\n",
    "    prediction = 'Sign 7'\n",
    "    \n",
    "print(prediction)\n"
   ]
  },
  {
   "cell_type": "code",
   "execution_count": null,
   "metadata": {},
   "outputs": [],
   "source": []
  }
 ],
 "metadata": {
  "kernelspec": {
   "display_name": "Python 3",
   "language": "python",
   "name": "python3"
  },
  "language_info": {
   "codemirror_mode": {
    "name": "ipython",
    "version": 3
   },
   "file_extension": ".py",
   "mimetype": "text/x-python",
   "name": "python",
   "nbconvert_exporter": "python",
   "pygments_lexer": "ipython3",
   "version": "3.7.3"
  }
 },
 "nbformat": 4,
 "nbformat_minor": 2
}
